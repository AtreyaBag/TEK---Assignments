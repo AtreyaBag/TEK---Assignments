{
 "cells": [
  {
   "cell_type": "markdown",
   "id": "a17d9b56",
   "metadata": {},
   "source": [
    "## 1.\tCreate a python program to find duplicate files by content. User will input path and it will scan all directories, sub-directories to find all duplicates files.Delete the found duplicate file."
   ]
  },
  {
   "cell_type": "code",
   "execution_count": 10,
   "id": "64271984",
   "metadata": {},
   "outputs": [
    {
     "name": "stdout",
     "output_type": "stream",
     "text": [
      "D:\\Python Assignment [] ['text 2.txt', 'text 3.txt', 'text1.txt']\n"
     ]
    }
   ],
   "source": [
    "import hashlib\n",
    "import os\n",
    "\n",
    "path = \"D:\\Python Assignment\"\n",
    "hashes = []\n",
    "\n",
    "for (dir_path, dir_names, file_names) in os.walk(path):\n",
    "    print(dir_path,dir_names,file_names)\n",
    "    for filename in file_names:\n",
    "        try:\n",
    "            filepath = os.path.join(dir_path, filename)\n",
    "            file = open(filepath, 'r')\n",
    "            content = file.read().encode()\n",
    "            file.close()\n",
    "            message = hashlib.sha256(content)\n",
    "            if message.hexdigest() not in hashes:\n",
    "                hashes.append(message.hexdigest())\n",
    "            else:\n",
    "                os.remove(filepath)\n",
    "        except Exception as e:\n",
    "            print(e)"
   ]
  },
  {
   "cell_type": "markdown",
   "id": "b93da0d2",
   "metadata": {},
   "source": [
    "## 2.\tGenerate random Password with exact length = 6, with minimum 1 uppercase, 2 lowercase, 2 digits, and remaining special characters. Using these packages [random, strings]"
   ]
  },
  {
   "cell_type": "code",
   "execution_count": 18,
   "id": "085598c5",
   "metadata": {},
   "outputs": [
    {
     "name": "stdout",
     "output_type": "stream",
     "text": [
      "Here is your password: im1O26\n"
     ]
    }
   ],
   "source": [
    "import random\n",
    "import string\n",
    "\n",
    "password = []\n",
    "\n",
    "password.extend(random.choices(string.ascii_uppercase, k=1))\n",
    "password.extend(random.choices(string.ascii_lowercase, k=2))\n",
    "password.extend(random.choices('0123456789',k=3))\n",
    "\n",
    "strongpassword = \"\"\n",
    "random.shuffle(password)\n",
    "\n",
    "for i in range(6):\n",
    "    strongpassword += password[i]\n",
    "    \n",
    "print(\"Here is your password:\", strongpassword)"
   ]
  },
  {
   "cell_type": "markdown",
   "id": "6eed66da",
   "metadata": {},
   "source": [
    "## 3. Create 2D array and update the same 2D array provided that every prime number position should be replaced by cube of the positioned number."
   ]
  },
  {
   "cell_type": "code",
   "execution_count": 3,
   "id": "487f68f0",
   "metadata": {},
   "outputs": [
    {
     "name": "stdout",
     "output_type": "stream",
     "text": [
      "[[  1   8  27   4]\n",
      " [ 27  24 125 343]]\n"
     ]
    }
   ],
   "source": [
    "def prime_no(num):\n",
    "    flag=False\n",
    "    if num==1:\n",
    "        return False\n",
    "    elif num>1:\n",
    "        for i in range(2,int((num/2)+1)):\n",
    "            if (num%i) == 0:\n",
    "                flag=True\n",
    "                break\n",
    "            else:\n",
    "                flag=False\n",
    "    if flag:\n",
    "        return False\n",
    "    else:\n",
    "        return True\n",
    "\n",
    "import numpy as np\n",
    "arr_1=np.array([[1,2,3,4],[3,24,5,7]])\n",
    "for i in range(len(arr_1)):\n",
    "    for j in range(len(arr_1[i])):\n",
    "        if prime_no(arr_1[i][j]):\n",
    "            arr_1[i][j]=(arr_1[i][j]**3)\n",
    "print(arr_1)"
   ]
  },
  {
   "cell_type": "markdown",
   "id": "87c54531",
   "metadata": {},
   "source": [
    "## 4.Python program to get the sum of every cubed value and its previous integer. "
   ]
  },
  {
   "cell_type": "code",
   "execution_count": 4,
   "id": "7e9dc0cc",
   "metadata": {},
   "outputs": [
    {
     "name": "stdout",
     "output_type": "stream",
     "text": [
      "348\n"
     ]
    }
   ],
   "source": [
    "import numpy as np\n",
    "\n",
    "arr_1=np.array([[1,2,3,4],[8,3,5,7]])\n",
    "sum_2=0\n",
    "\n",
    "def prime_no(num):\n",
    "    flag=False\n",
    "    if num==1:\n",
    "        return False\n",
    "    elif num>1:\n",
    "        for i in range(2,int((num/2)+1)):\n",
    "            if (num%i) == 0:\n",
    "                flag=True\n",
    "                break\n",
    "            else:\n",
    "                flag=False\n",
    "    if flag:\n",
    "        return False\n",
    "    else:\n",
    "        return True\n",
    "\n",
    "for i in range(len(arr_1)):\n",
    "    for j in range(len(arr_1[i])):\n",
    "        if prime_no(arr_1[i][j]):\n",
    "            sum_2 = (arr_1[i][j]**3) + arr_1[i][j-1]\n",
    "            \n",
    "print(sum_2)"
   ]
  },
  {
   "cell_type": "markdown",
   "id": "e75aa549",
   "metadata": {},
   "source": [
    "## 5.\tGiven two arrays, find their intersection. Examples:\n",
    "**Input:  arr1[] = [1, 3, 4, 5, 7]\n",
    "   arr2[] = [2, 3, 5, 6]**\n"
   ]
  },
  {
   "cell_type": "code",
   "execution_count": 32,
   "id": "2f8cf825",
   "metadata": {},
   "outputs": [
    {
     "name": "stdout",
     "output_type": "stream",
     "text": [
      "[3, 5]\n"
     ]
    }
   ],
   "source": [
    "arr1 = [1, 3, 4, 5, 7]\n",
    "arr2 = [2, 3, 5, 6]\n",
    "\n",
    "intersection_set = set(arr1).intersection(arr2)\n",
    "intersection_list = list(intersection_set)\n",
    "\n",
    "print(intersection_list)"
   ]
  },
  {
   "cell_type": "markdown",
   "id": "7cfb7cfd",
   "metadata": {},
   "source": [
    "## 6. Create a 7 x 7  2D array having only multiples of 7. And return the last element of the same."
   ]
  },
  {
   "cell_type": "code",
   "execution_count": 35,
   "id": "d84fcbe9",
   "metadata": {},
   "outputs": [
    {
     "name": "stdout",
     "output_type": "stream",
     "text": [
      "[[7, 14, 21, 28, 35, 42], [56, 63, 70, 77, 84, 91], [105, 112, 119, 126, 133, 140], [154, 161, 168, 175, 182, 189], [203, 210, 217, 224, 231, 238], [252, 259, 266, 273, 280, 287], [301, 308, 315, 322, 329, 336]]\n",
      "Last element is: 336\n"
     ]
    }
   ],
   "source": [
    "arr = [[7 * (i * 7 + j) for j in range (1,7)] for i in range (7)]\n",
    "print(arr)\n",
    "\n",
    "last_element = arr[-1][-1]\n",
    "print(\"Last element is:\", last_element)"
   ]
  },
  {
   "cell_type": "markdown",
   "id": "a3b1f883",
   "metadata": {},
   "source": [
    "##  7.Checker Board Patten using Numpy:"
   ]
  },
  {
   "cell_type": "code",
   "execution_count": 6,
   "id": "a646c119",
   "metadata": {},
   "outputs": [
    {
     "name": "stdout",
     "output_type": "stream",
     "text": [
      "Enter Dimensions:7\n",
      "[[1 0 1 0 1 0]\n",
      " [0 1 0 1 0 1]\n",
      " [1 0 1 0 1 0]\n",
      " [0 1 0 1 0 1]\n",
      " [1 0 1 0 1 0]\n",
      " [0 1 0 1 0 1]\n",
      " [1 0 1 0 1 0]]\n"
     ]
    }
   ],
   "source": [
    "import numpy as np\n",
    "\n",
    "def printcheckboard(n):\n",
    "    final = []\n",
    "    \n",
    "    for i in range(n):\n",
    "        final.append(list(np.tile([1,0],int(n/2))) if i%2==0 else list(np.tile([0,1],int(n/2))))\n",
    "    print(np.array(final))\n",
    "    \n",
    "n = int(input(\"Enter Dimensions:\"))\n",
    "printcheckboard(n)"
   ]
  },
  {
   "cell_type": "markdown",
   "id": "459956d0",
   "metadata": {},
   "source": [
    "## 8.\tCreate a given Matrix:\n",
    "\n",
    "[A, B, C, D\n",
    " E, F, G, H\n",
    " I, a, K, L\n",
    " M, N, o, P\n",
    " Q, R, S, T\n",
    " U, 0, W, O ]\n",
    "\n",
    "## place all the vowels by np.nan A, E, I, O U  -- >  np.nan Return the count of the missing values"
   ]
  },
  {
   "cell_type": "code",
   "execution_count": 12,
   "id": "d2586d0a",
   "metadata": {},
   "outputs": [
    {
     "name": "stdout",
     "output_type": "stream",
     "text": [
      "[nan, 'B', 'C', 'D', nan, 'F', 'G', 'H', nan, nan, 'K', 'L', 'M', 'N', nan, 'P', 'Q', 'R', 'S', 'T', nan, '0', 'W', nan]\n",
      "7\n"
     ]
    }
   ],
   "source": [
    "arr_1 = ['A','B','C','D',\n",
    "         'E','F','G','H',\n",
    "         'I','a','K','L',\n",
    "         'M','N','o','P',\n",
    "         'Q','R','S','T',\n",
    "         'U','0','W','O']\n",
    "ct=0\n",
    "for i in range(0, len(arr_1)):\n",
    "    if arr_1[i].lower() in \"aeiou\":\n",
    "        arr_1[i] = np.nan\n",
    "        ct+=1\n",
    "\n",
    "print(arr_1)\n",
    "print(ct)"
   ]
  },
  {
   "cell_type": "code",
   "execution_count": null,
   "id": "455e848e",
   "metadata": {},
   "outputs": [],
   "source": []
  }
 ],
 "metadata": {
  "kernelspec": {
   "display_name": "Python 3 (ipykernel)",
   "language": "python",
   "name": "python3"
  },
  "language_info": {
   "codemirror_mode": {
    "name": "ipython",
    "version": 3
   },
   "file_extension": ".py",
   "mimetype": "text/x-python",
   "name": "python",
   "nbconvert_exporter": "python",
   "pygments_lexer": "ipython3",
   "version": "3.9.13"
  }
 },
 "nbformat": 4,
 "nbformat_minor": 5
}
